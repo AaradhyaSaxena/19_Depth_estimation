{
 "cells": [
  {
   "cell_type": "code",
   "execution_count": 1,
   "metadata": {},
   "outputs": [
    {
     "name": "stderr",
     "output_type": "stream",
     "text": [
      "Using TensorFlow backend.\n"
     ]
    }
   ],
   "source": [
    "import keras\n",
    "from keras.models import Sequential\n",
    "from keras.layers import Conv2D, MaxPooling2D, Dense, Flatten, Dropout\n",
    "from keras.optimizers import Adam\n",
    "from keras.callbacks import TensorBoard\n",
    "import tensorflow as tf\n",
    "\n",
    "import pickle\n",
    "import numpy as np\n",
    "import pandas as pd\n",
    "import matplotlib.pyplot as plt\n",
    "from sklearn.model_selection import train_test_split"
   ]
  },
  {
   "cell_type": "code",
   "execution_count": 2,
   "metadata": {},
   "outputs": [
    {
     "name": "stdout",
     "output_type": "stream",
     "text": [
      "Number of labels : 8000\n"
     ]
    }
   ],
   "source": [
    "# Training label\n",
    "\n",
    "a = open('data/train_label.pkl', 'rb')   \n",
    "label = pickle.load(a) \n",
    "a.close\n",
    "print(\"Number of labels :\",len(label))"
   ]
  },
  {
   "cell_type": "code",
   "execution_count": 3,
   "metadata": {},
   "outputs": [
    {
     "name": "stdout",
     "output_type": "stream",
     "text": [
      "length of image : 8000\n",
      "length of image[0] : 784\n"
     ]
    }
   ],
   "source": [
    "# Training images\n",
    "\n",
    "img = open('data/train_image.pkl', 'rb')   \n",
    "image = pickle.load(img) \n",
    "img.close\n",
    "print(\"length of image :\",len(image))\n",
    "# print(image[0])\n",
    "print(\"length of image[0] :\",len(image[0]))"
   ]
  },
  {
   "cell_type": "code",
   "execution_count": 4,
   "metadata": {},
   "outputs": [
    {
     "name": "stdout",
     "output_type": "stream",
     "text": [
      "length of image : 2000\n",
      "length of image[0] : 784\n"
     ]
    }
   ],
   "source": [
    "# Testing Data\n",
    "img1 = open('data/test_image.pkl', 'rb')   \n",
    "test_im = pickle.load(img1) \n",
    "img1.close\n",
    "print(\"length of image :\",len(test_im))\n",
    "# print(image[0])\n",
    "print(\"length of image[0] :\",len(test_im[0]))"
   ]
  },
  {
   "cell_type": "code",
   "execution_count": 5,
   "metadata": {},
   "outputs": [
    {
     "data": {
      "text/plain": [
       "{0, 2, 3, 6}"
      ]
     },
     "execution_count": 5,
     "metadata": {},
     "output_type": "execute_result"
    }
   ],
   "source": [
    "set(label)"
   ]
  },
  {
   "cell_type": "code",
   "execution_count": 6,
   "metadata": {},
   "outputs": [],
   "source": [
    "train_im = np.array(image, dtype='float32')\n",
    "test_im = np.array(test_im, dtype='float32')\n",
    "\n",
    "X_train = train_im / 255\n",
    "Y_train = np.array(label ,dtype = 'uint8')\n",
    "\n",
    "X_test = test_im / 255"
   ]
  },
  {
   "cell_type": "code",
   "execution_count": 7,
   "metadata": {},
   "outputs": [],
   "source": [
    "# X_train[0]"
   ]
  },
  {
   "cell_type": "code",
   "execution_count": 8,
   "metadata": {},
   "outputs": [],
   "source": [
    "for i in range(0,2000):\n",
    "    Y_train[i] = 0\n",
    "for i in range(2000,4000):\n",
    "    Y_train[i] = 1\n",
    "for i in range(4000,6000):\n",
    "    Y_train[i] = 2\n",
    "for i in range(6000,8000):\n",
    "    Y_train[i] = 3"
   ]
  },
  {
   "cell_type": "code",
   "execution_count": 9,
   "metadata": {},
   "outputs": [],
   "source": [
    "from keras.utils import to_categorical\n",
    "encoded = to_categorical(Y_train)"
   ]
  },
  {
   "cell_type": "code",
   "execution_count": 10,
   "metadata": {},
   "outputs": [
    {
     "data": {
      "text/plain": [
       "{0, 1, 2, 3}"
      ]
     },
     "execution_count": 10,
     "metadata": {},
     "output_type": "execute_result"
    }
   ],
   "source": [
    "set(Y_train)"
   ]
  },
  {
   "cell_type": "code",
   "execution_count": 11,
   "metadata": {},
   "outputs": [
    {
     "data": {
      "text/plain": [
       "(8000, 4)"
      ]
     },
     "execution_count": 11,
     "metadata": {},
     "output_type": "execute_result"
    }
   ],
   "source": [
    "encoded.shape"
   ]
  },
  {
   "cell_type": "code",
   "execution_count": 12,
   "metadata": {},
   "outputs": [],
   "source": [
    "# split the training data into train and validate arrays \n",
    "\n",
    "x_train, x_validate, y_train, y_validate = train_test_split(\n",
    "    X_train, encoded, test_size = 0.2, random_state= 2145,\n",
    ")"
   ]
  },
  {
   "cell_type": "code",
   "execution_count": 13,
   "metadata": {},
   "outputs": [
    {
     "data": {
      "image/png": "[encoded data removed]",
      "text/plain": [
       "<Figure size 432x288 with 1 Axes>"
      ]
     },
     "metadata": {
      "needs_background": "light"
     },
     "output_type": "display_data"
    }
   ],
   "source": [
    "# lets see what the images look like\n",
    "image1 = x_train[5000, :].reshape((28, 28))\n",
    "\n",
    "plt.imshow(image1)\n",
    "plt.show()"
   ]
  },
  {
   "cell_type": "code",
   "execution_count": 14,
   "metadata": {
    "scrolled": true
   },
   "outputs": [
    {
     "name": "stdout",
     "output_type": "stream",
     "text": [
      "x_train shape: (6400, 28, 28, 1)\n",
      "x_test shape: (2000, 28, 28, 1)\n",
      "x_validate shape: (1600, 28, 28, 1)\n"
     ]
    }
   ],
   "source": [
    "im_rows = 28\n",
    "im_cols = 28\n",
    "batch_size = 512\n",
    "im_shape = (im_rows, im_cols, 1)\n",
    "\n",
    "x_train = x_train.reshape(x_train.shape[0], *im_shape)\n",
    "x_test = X_test.reshape(X_test.shape[0], *im_shape)\n",
    "x_validate = x_validate.reshape(x_validate.shape[0], *im_shape)\n",
    "\n",
    "print('x_train shape: {}'.format(x_train.shape))\n",
    "print('x_test shape: {}'.format(x_test.shape))\n",
    "print('x_validate shape: {}'.format(x_validate.shape))"
   ]
  },
  {
   "cell_type": "markdown",
   "metadata": {},
   "source": [
    "MOdel"
   ]
  },
  {
   "cell_type": "code",
   "execution_count": 15,
   "metadata": {},
   "outputs": [],
   "source": [
    "cnn_model = Sequential([\n",
    "    Conv2D(filters=32, kernel_size=3, activation='relu', input_shape=im_shape),\n",
    "    MaxPooling2D(pool_size=2),\n",
    "    Dropout(0.2),\n",
    "    \n",
    "    Flatten(),\n",
    "    Dense(32, activation='relu'),   #relu\n",
    "    Dense(4, activation='softmax')\n",
    "])"
   ]
  },
  {
   "cell_type": "code",
   "execution_count": 16,
   "metadata": {},
   "outputs": [],
   "source": [
    "# tensorboard = TensorBoard(\n",
    "#     log_dir=r'logs\\{}'.format('cnn_1layer'),\n",
    "#     write_graph=True,\n",
    "#     write_grads=True,\n",
    "#     #histogram_freq=1,\n",
    "#     write_images=True,\n",
    "# )\n",
    "\n",
    "cnn_model.compile(\n",
    "    loss='categorical_crossentropy',\n",
    "    optimizer=Adam(lr=0.001),\n",
    "    metrics=['accuracy']\n",
    ")\n",
    "# model.compile(optimizer='adam', \n",
    "#               loss='sparse_categorical_crossentropy',\n",
    "#               metrics=['accuracy'])\n"
   ]
  },
  {
   "cell_type": "code",
   "execution_count": 17,
   "metadata": {},
   "outputs": [
    {
     "name": "stdout",
     "output_type": "stream",
     "text": [
      "Train on 6400 samples, validate on 1600 samples\n",
      "Epoch 1/10\n",
      "6400/6400 [==============================] - 13s 2ms/step - loss: 1.0172 - acc: 0.5950 - val_loss: 0.6940 - val_acc: 0.7081\n",
      "Epoch 2/10\n",
      "6400/6400 [==============================] - 1s 137us/step - loss: 0.6568 - acc: 0.7258 - val_loss: 0.6151 - val_acc: 0.7406\n",
      "Epoch 3/10\n",
      "6400/6400 [==============================] - 1s 144us/step - loss: 0.5833 - acc: 0.7661 - val_loss: 0.5635 - val_acc: 0.7750\n",
      "Epoch 4/10\n",
      "6400/6400 [==============================] - 1s 157us/step - loss: 0.5281 - acc: 0.8033 - val_loss: 0.5182 - val_acc: 0.7963\n",
      "Epoch 5/10\n",
      "6400/6400 [==============================] - 1s 151us/step - loss: 0.4945 - acc: 0.8131 - val_loss: 0.4878 - val_acc: 0.8075\n",
      "Epoch 6/10\n",
      "6400/6400 [==============================] - 1s 140us/step - loss: 0.4731 - acc: 0.8225 - val_loss: 0.4972 - val_acc: 0.8063\n",
      "Epoch 7/10\n",
      "6400/6400 [==============================] - 1s 139us/step - loss: 0.4575 - acc: 0.8261 - val_loss: 0.4651 - val_acc: 0.8169\n",
      "Epoch 8/10\n",
      "6400/6400 [==============================] - 1s 137us/step - loss: 0.4285 - acc: 0.8417 - val_loss: 0.4655 - val_acc: 0.8113\n",
      "Epoch 9/10\n",
      "6400/6400 [==============================] - 1s 145us/step - loss: 0.4187 - acc: 0.8417 - val_loss: 0.4369 - val_acc: 0.8256\n",
      "Epoch 10/10\n",
      "6400/6400 [==============================] - 1s 136us/step - loss: 0.4044 - acc: 0.8486 - val_loss: 0.4442 - val_acc: 0.8306\n"
     ]
    },
    {
     "data": {
      "text/plain": [
       "<keras.callbacks.History at 0x26af07d7978>"
      ]
     },
     "execution_count": 17,
     "metadata": {},
     "output_type": "execute_result"
    }
   ],
   "source": [
    "cnn_model.fit(\n",
    "    x_train, y_train, batch_size=batch_size,\n",
    "    epochs=10, verbose=1,\n",
    "    validation_data=(x_validate, y_validate),\n",
    "    #callbacks=[tensorboard]\n",
    ")"
   ]
  },
  {
   "cell_type": "code",
   "execution_count": 18,
   "metadata": {},
   "outputs": [],
   "source": [
    "cnn_model.save('1.model')"
   ]
  },
  {
   "cell_type": "code",
   "execution_count": 19,
   "metadata": {
    "scrolled": true
   },
   "outputs": [
    {
     "name": "stdout",
     "output_type": "stream",
     "text": [
      "training loss: 0.3925\n",
      "training acc: 0.8580\n"
     ]
    }
   ],
   "source": [
    "score = cnn_model.evaluate(x_train, y_train, verbose=0)\n",
    "\n",
    "print('training loss: {:.4f}'.format(score[0]))\n",
    "print('training acc: {:.4f}'.format(score[1]))"
   ]
  },
  {
   "cell_type": "code",
   "execution_count": 20,
   "metadata": {},
   "outputs": [
    {
     "data": {
      "text/plain": [
       "array([0, 0, 0, ..., 3, 3, 3], dtype=int64)"
      ]
     },
     "execution_count": 20,
     "metadata": {},
     "output_type": "execute_result"
    }
   ],
   "source": [
    "y = cnn_model.predict_classes(x_test)\n",
    "\n",
    "y\n",
    "# # show the inputs and predicted outputs\n",
    "# for i in range(len(x_train)):\n",
    "#     print(\"X=%s, Predicted=%s\" % (x_train[i], y[i]))"
   ]
  },
  {
   "cell_type": "code",
   "execution_count": null,
   "metadata": {},
   "outputs": [],
   "source": [
    "for i in range(0,2000):\n",
    "    if(y[i] = 1):\n",
    "        y[i] = 2\n",
    "    else if(y[i] = 2):\n",
    "        y[i] = 3\n",
    "    else if(y[i] = 3):\n",
    "        y[i] = 6\n",
    "    else:\n",
    "        y[i] = 0"
   ]
  },
  {
   "cell_type": "code",
   "execution_count": 21,
   "metadata": {},
   "outputs": [],
   "source": [
    "index = np.arange(len(x_test))\n",
    "columns = ['class']"
   ]
  },
  {
   "cell_type": "code",
   "execution_count": 22,
   "metadata": {},
   "outputs": [],
   "source": [
    "df = pd.DataFrame(y, index= index, columns = columns)\n",
    "df.head()\n",
    "\n",
    "df.to_csv(\"cv.csv\")"
   ]
  },
  {
   "cell_type": "markdown",
   "metadata": {},
   "source": [
    "#######################\n",
    "\n",
    "\n",
    "#######################\n",
    "#######################\n",
    "\n",
    "\n",
    "#######################\n",
    "#######################\n",
    "\n",
    "\n",
    "#######################\n",
    "#######################\n",
    "\n",
    "\n",
    "##############################################\n",
    "\n",
    "\n",
    "#######################\n",
    "#######################\n",
    "\n",
    "\n",
    "#######################\n",
    "#######################\n",
    "\n",
    "\n",
    "#######################\n",
    "#######################\n",
    "\n",
    "\n",
    "#######################"
   ]
  },
  {
   "cell_type": "code",
   "execution_count": null,
   "metadata": {},
   "outputs": [],
   "source": []
  }
 ],
 "metadata": {
  "kernelspec": {
   "display_name": "Python 3",
   "language": "python",
   "name": "python3"
  },
  "language_info": {
   "codemirror_mode": {
    "name": "ipython",
    "version": 3
   },
   "file_extension": ".py",
   "mimetype": "text/x-python",
   "name": "python",
   "nbconvert_exporter": "python",
   "pygments_lexer": "ipython3",
   "version": "3.6.8"
  }
 },
 "nbformat": 4,
 "nbformat_minor": 2
}
