{
 "cells": [
  {
   "cell_type": "code",
   "execution_count": 1,
   "metadata": {},
   "outputs": [
    {
     "name": "stderr",
     "output_type": "stream",
     "text": [
      "Using TensorFlow backend.\n"
     ]
    }
   ],
   "source": [
    "import keras\n",
    "from keras.models import Sequential\n",
    "from keras.layers import Conv2D, MaxPooling2D, Dense, Flatten, Dropout\n",
    "from keras.optimizers import Adam\n",
    "from keras.callbacks import TensorBoard\n",
    "import tensorflow as tf\n",
    "\n",
    "import pickle\n",
    "import numpy as np\n",
    "import pandas as pd\n",
    "import matplotlib.pyplot as plt\n",
    "from sklearn.model_selection import train_test_split"
   ]
  },
  {
   "cell_type": "code",
   "execution_count": 2,
   "metadata": {},
   "outputs": [
    {
     "name": "stdout",
     "output_type": "stream",
     "text": [
      "Number of labels : 8000\n"
     ]
    }
   ],
   "source": [
    "# Training label\n",
    "\n",
    "a = open('data/train_label.pkl', 'rb')   \n",
    "label = pickle.load(a) \n",
    "a.close\n",
    "print(\"Number of labels :\",len(label))"
   ]
  },
  {
   "cell_type": "code",
   "execution_count": 3,
   "metadata": {},
   "outputs": [
    {
     "name": "stdout",
     "output_type": "stream",
     "text": [
      "length of image : 8000\n",
      "length of image[0] : 784\n"
     ]
    }
   ],
   "source": [
    "# Training images\n",
    "\n",
    "img = open('data/train_image.pkl', 'rb')   \n",
    "image = pickle.load(img) \n",
    "img.close\n",
    "print(\"length of image :\",len(image))\n",
    "# print(image[0])\n",
    "print(\"length of image[0] :\",len(image[0]))"
   ]
  },
  {
   "cell_type": "code",
   "execution_count": 4,
   "metadata": {},
   "outputs": [
    {
     "name": "stdout",
     "output_type": "stream",
     "text": [
      "length of image : 2000\n",
      "length of image[0] : 784\n"
     ]
    }
   ],
   "source": [
    "# Testing Data\n",
    "img1 = open('data/test_image.pkl', 'rb')   \n",
    "test_im = pickle.load(img1) \n",
    "img1.close\n",
    "print(\"length of image :\",len(test_im))\n",
    "# print(image[0])\n",
    "print(\"length of image[0] :\",len(test_im[0]))"
   ]
  },
  {
   "cell_type": "code",
   "execution_count": 5,
   "metadata": {},
   "outputs": [
    {
     "data": {
      "text/plain": [
       "{0, 2, 3, 6}"
      ]
     },
     "execution_count": 5,
     "metadata": {},
     "output_type": "execute_result"
    }
   ],
   "source": [
    "set(label)"
   ]
  },
  {
   "cell_type": "code",
   "execution_count": 6,
   "metadata": {},
   "outputs": [],
   "source": [
    "train_im = np.array(image, dtype='float32')\n",
    "test_im = np.array(test_im, dtype='float32')\n",
    "\n",
    "X_train = train_im / 255\n",
    "Y_train = np.array(label ,dtype = 'uint8')\n",
    "\n",
    "X_test = test_im / 255"
   ]
  },
  {
   "cell_type": "code",
   "execution_count": 7,
   "metadata": {},
   "outputs": [],
   "source": [
    "# X_train[0]"
   ]
  },
  {
   "cell_type": "code",
   "execution_count": 8,
   "metadata": {},
   "outputs": [],
   "source": [
    "for i in range(0,2000):\n",
    "    Y_train[i] = 0\n",
    "for i in range(2000,4000):\n",
    "    Y_train[i] = 1\n",
    "for i in range(4000,6000):\n",
    "    Y_train[i] = 2\n",
    "for i in range(6000,8000):\n",
    "    Y_train[i] = 3"
   ]
  },
  {
   "cell_type": "code",
   "execution_count": 9,
   "metadata": {},
   "outputs": [],
   "source": [
    "from keras.utils import to_categorical\n",
    "encoded = to_categorical(Y_train)"
   ]
  },
  {
   "cell_type": "code",
   "execution_count": 10,
   "metadata": {},
   "outputs": [
    {
     "data": {
      "text/plain": [
       "{0, 1, 2, 3}"
      ]
     },
     "execution_count": 10,
     "metadata": {},
     "output_type": "execute_result"
    }
   ],
   "source": [
    "set(Y_train)"
   ]
  },
  {
   "cell_type": "code",
   "execution_count": 11,
   "metadata": {},
   "outputs": [
    {
     "data": {
      "text/plain": [
       "(8000, 4)"
      ]
     },
     "execution_count": 11,
     "metadata": {},
     "output_type": "execute_result"
    }
   ],
   "source": [
    "encoded.shape"
   ]
  },
  {
   "cell_type": "code",
   "execution_count": 12,
   "metadata": {},
   "outputs": [],
   "source": [
    "# split the training data into train and validate arrays \n",
    "\n",
    "x_train, x_validate, y_train, y_validate = train_test_split(\n",
    "    X_train, encoded, test_size = 0.2, random_state= 2145,\n",
    ")"
   ]
  },
  {
   "cell_type": "code",
   "execution_count": 13,
   "metadata": {},
   "outputs": [
    {
     "data": {
      "image/png": "[encoded data removed]",
      "text/plain": [
       "<Figure size 432x288 with 1 Axes>"
      ]
     },
     "metadata": {
      "needs_background": "light"
     },
     "output_type": "display_data"
    }
   ],
   "source": [
    "# lets see what the images look like\n",
    "image1 = x_train[5000, :].reshape((28, 28))\n",
    "\n",
    "plt.imshow(image1)\n",
    "plt.show()"
   ]
  },
  {
   "cell_type": "code",
   "execution_count": 14,
   "metadata": {
    "scrolled": true
   },
   "outputs": [
    {
     "name": "stdout",
     "output_type": "stream",
     "text": [
      "x_train shape: (6400, 28, 28, 1)\n",
      "x_test shape: (2000, 28, 28, 1)\n",
      "x_validate shape: (1600, 28, 28, 1)\n"
     ]
    }
   ],
   "source": [
    "im_rows = 28\n",
    "im_cols = 28\n",
    "batch_size = 512\n",
    "im_shape = (im_rows, im_cols, 1)\n",
    "\n",
    "x_train = x_train.reshape(x_train.shape[0], *im_shape)\n",
    "x_test = X_test.reshape(X_test.shape[0], *im_shape)\n",
    "x_validate = x_validate.reshape(x_validate.shape[0], *im_shape)\n",
    "\n",
    "print('x_train shape: {}'.format(x_train.shape))\n",
    "print('x_test shape: {}'.format(x_test.shape))\n",
    "print('x_validate shape: {}'.format(x_validate.shape))"
   ]
  },
  {
   "cell_type": "markdown",
   "metadata": {},
   "source": [
    "MOdel"
   ]
  },
  {
   "cell_type": "markdown",
   "metadata": {},
   "source": [
    "########################"
   ]
  },
  {
   "cell_type": "code",
   "execution_count": 33,
   "metadata": {},
   "outputs": [],
   "source": [
    "# our 3 models \n",
    "\n",
    "name = '1_Layer'\n",
    "cnn_model_1 = Sequential([\n",
    "    Conv2D(32, kernel_size=3, activation='relu', input_shape=im_shape, name='Conv2D-1'),\n",
    "    MaxPooling2D(pool_size=2, name='MaxPool'),\n",
    "    Dropout(0.2, name='Dropout'),\n",
    "    Flatten(name='flatten'),\n",
    "    Dense(32, activation='relu', name='Dense'),\n",
    "    Dense(4, activation='softmax', name='Output')\n",
    "], name=name)\n",
    "\n",
    "name = '2_Layer'\n",
    "cnn_model_2 = Sequential([\n",
    "    Conv2D(32, kernel_size=3, activation='relu', input_shape=im_shape, name='Conv2D-1'),\n",
    "    MaxPooling2D(pool_size=2, name='MaxPool'),\n",
    "    Dropout(0.2, name='Dropout-1'),\n",
    "    Conv2D(64, kernel_size=3, activation='relu', name='Conv2D-2'),\n",
    "    Dropout(0.25, name='Dropout-2'),\n",
    "    Flatten(name='flatten'),\n",
    "    Dense(64, activation='relu', name='Dense'),\n",
    "    Dense(4, activation='softmax', name='Output')\n",
    "], name=name)\n",
    "\n",
    "name='3_layer'\n",
    "cnn_model_3 = Sequential([\n",
    "    Conv2D(32, kernel_size=3, activation='relu', \n",
    "           input_shape=im_shape, kernel_initializer='he_normal', name='Conv2D-1'),\n",
    "    MaxPooling2D(pool_size=2, name='MaxPool'),\n",
    "    Dropout(0.25, name='Dropout-1'),\n",
    "    Conv2D(64, kernel_size=3, activation='relu', name='Conv2D-2'),\n",
    "    Dropout(0.25, name='Dropout-2'),\n",
    "    Conv2D(128, kernel_size=3, activation='relu', name='Conv2D-3'),\n",
    "    Dropout(0.4, name='Dropout-3'),\n",
    "    Flatten(name='flatten'),\n",
    "    Dense(128, activation='relu', name='Dense'),\n",
    "    Dropout(0.4, name='Dropout'),\n",
    "    Dense(4, activation='softmax', name='Output')\n",
    "], name=name)\n",
    "\n",
    "cnn_models = [cnn_model_1, cnn_model_2, cnn_model_3]"
   ]
  },
  {
   "cell_type": "code",
   "execution_count": 34,
   "metadata": {},
   "outputs": [
    {
     "name": "stdout",
     "output_type": "stream",
     "text": [
      "_________________________________________________________________\n",
      "Layer (type)                 Output Shape              Param #   \n",
      "=================================================================\n",
      "Conv2D-1 (Conv2D)            (None, 26, 26, 32)        320       \n",
      "_________________________________________________________________\n",
      "MaxPool (MaxPooling2D)       (None, 13, 13, 32)        0         \n",
      "_________________________________________________________________\n",
      "Dropout (Dropout)            (None, 13, 13, 32)        0         \n",
      "_________________________________________________________________\n",
      "flatten (Flatten)            (None, 5408)              0         \n",
      "_________________________________________________________________\n",
      "Dense (Dense)                (None, 32)                173088    \n",
      "_________________________________________________________________\n",
      "Output (Dense)               (None, 4)                 132       \n",
      "=================================================================\n",
      "Total params: 173,540\n",
      "Trainable params: 173,540\n",
      "Non-trainable params: 0\n",
      "_________________________________________________________________\n",
      "_________________________________________________________________\n",
      "Layer (type)                 Output Shape              Param #   \n",
      "=================================================================\n",
      "Conv2D-1 (Conv2D)            (None, 26, 26, 32)        320       \n",
      "_________________________________________________________________\n",
      "MaxPool (MaxPooling2D)       (None, 13, 13, 32)        0         \n",
      "_________________________________________________________________\n",
      "Dropout-1 (Dropout)          (None, 13, 13, 32)        0         \n",
      "_________________________________________________________________\n",
      "Conv2D-2 (Conv2D)            (None, 11, 11, 64)        18496     \n",
      "_________________________________________________________________\n",
      "Dropout-2 (Dropout)          (None, 11, 11, 64)        0         \n",
      "_________________________________________________________________\n",
      "flatten (Flatten)            (None, 7744)              0         \n",
      "_________________________________________________________________\n",
      "Dense (Dense)                (None, 64)                495680    \n",
      "_________________________________________________________________\n",
      "Output (Dense)               (None, 4)                 260       \n",
      "=================================================================\n",
      "Total params: 514,756\n",
      "Trainable params: 514,756\n",
      "Non-trainable params: 0\n",
      "_________________________________________________________________\n",
      "_________________________________________________________________\n",
      "Layer (type)                 Output Shape              Param #   \n",
      "=================================================================\n",
      "Conv2D-1 (Conv2D)            (None, 26, 26, 32)        320       \n",
      "_________________________________________________________________\n",
      "MaxPool (MaxPooling2D)       (None, 13, 13, 32)        0         \n",
      "_________________________________________________________________\n",
      "Dropout-1 (Dropout)          (None, 13, 13, 32)        0         \n",
      "_________________________________________________________________\n",
      "Conv2D-2 (Conv2D)            (None, 11, 11, 64)        18496     \n",
      "_________________________________________________________________\n",
      "Dropout-2 (Dropout)          (None, 11, 11, 64)        0         \n",
      "_________________________________________________________________\n",
      "Conv2D-3 (Conv2D)            (None, 9, 9, 128)         73856     \n",
      "_________________________________________________________________\n",
      "Dropout-3 (Dropout)          (None, 9, 9, 128)         0         \n",
      "_________________________________________________________________\n",
      "flatten (Flatten)            (None, 10368)             0         \n",
      "_________________________________________________________________\n",
      "Dense (Dense)                (None, 128)               1327232   \n",
      "_________________________________________________________________\n",
      "Dropout (Dropout)            (None, 128)               0         \n",
      "_________________________________________________________________\n",
      "Output (Dense)               (None, 4)                 516       \n",
      "=================================================================\n",
      "Total params: 1,420,420\n",
      "Trainable params: 1,420,420\n",
      "Non-trainable params: 0\n",
      "_________________________________________________________________\n"
     ]
    }
   ],
   "source": [
    "# the model summaries\n",
    "\n",
    "for model in cnn_models:\n",
    "    model.summary()"
   ]
  },
  {
   "cell_type": "code",
   "execution_count": 35,
   "metadata": {},
   "outputs": [
    {
     "name": "stdout",
     "output_type": "stream",
     "text": [
      "Train on 6400 samples, validate on 1600 samples\n",
      "Epoch 1/50\n",
      "6400/6400 [==============================] - 3s 396us/step - loss: 1.0167 - acc: 0.6200 - val_loss: 0.7036 - val_acc: 0.7150\n",
      "Epoch 2/50\n",
      "6400/6400 [==============================] - 1s 140us/step - loss: 0.6524 - acc: 0.7383 - val_loss: 0.6057 - val_acc: 0.7550\n",
      "Epoch 3/50\n",
      "6400/6400 [==============================] - 1s 139us/step - loss: 0.5764 - acc: 0.7759 - val_loss: 0.5669 - val_acc: 0.7825\n",
      "Epoch 4/50\n",
      "6400/6400 [==============================] - 1s 139us/step - loss: 0.5368 - acc: 0.7969 - val_loss: 0.5229 - val_acc: 0.7969\n",
      "Epoch 5/50\n",
      "6400/6400 [==============================] - 1s 146us/step - loss: 0.5013 - acc: 0.8164 - val_loss: 0.5117 - val_acc: 0.8019\n",
      "Epoch 6/50\n",
      "6400/6400 [==============================] - 1s 145us/step - loss: 0.4822 - acc: 0.8230 - val_loss: 0.4831 - val_acc: 0.8044\n",
      "Epoch 7/50\n",
      "6400/6400 [==============================] - 1s 140us/step - loss: 0.4619 - acc: 0.8311 - val_loss: 0.4708 - val_acc: 0.8137\n",
      "Epoch 8/50\n",
      "6400/6400 [==============================] - 1s 152us/step - loss: 0.4499 - acc: 0.8334 - val_loss: 0.4587 - val_acc: 0.8169\n",
      "Epoch 9/50\n",
      "6400/6400 [==============================] - 1s 138us/step - loss: 0.4338 - acc: 0.8419 - val_loss: 0.4609 - val_acc: 0.8163\n",
      "Epoch 10/50\n",
      "6400/6400 [==============================] - 1s 138us/step - loss: 0.4242 - acc: 0.8406 - val_loss: 0.4339 - val_acc: 0.8256\n",
      "Epoch 11/50\n",
      "6400/6400 [==============================] - 1s 136us/step - loss: 0.4178 - acc: 0.8478 - val_loss: 0.4348 - val_acc: 0.8250\n",
      "Epoch 12/50\n",
      "6400/6400 [==============================] - 1s 142us/step - loss: 0.4090 - acc: 0.8484 - val_loss: 0.4319 - val_acc: 0.8313\n",
      "Epoch 13/50\n",
      "6400/6400 [==============================] - 1s 143us/step - loss: 0.3933 - acc: 0.8530 - val_loss: 0.4187 - val_acc: 0.8356\n",
      "Epoch 14/50\n",
      "6400/6400 [==============================] - 1s 141us/step - loss: 0.3879 - acc: 0.8625 - val_loss: 0.4379 - val_acc: 0.8300\n",
      "Epoch 15/50\n",
      "6400/6400 [==============================] - 1s 140us/step - loss: 0.3876 - acc: 0.8550 - val_loss: 0.4050 - val_acc: 0.8419\n",
      "Epoch 16/50\n",
      "6400/6400 [==============================] - 1s 138us/step - loss: 0.3809 - acc: 0.8594 - val_loss: 0.4053 - val_acc: 0.8419\n",
      "Epoch 17/50\n",
      "6400/6400 [==============================] - 1s 144us/step - loss: 0.3663 - acc: 0.8633 - val_loss: 0.4236 - val_acc: 0.8350\n",
      "Epoch 18/50\n",
      "6400/6400 [==============================] - 1s 141us/step - loss: 0.3642 - acc: 0.8630 - val_loss: 0.4069 - val_acc: 0.8413\n",
      "Epoch 19/50\n",
      "6400/6400 [==============================] - ETA: 0s - loss: 0.3611 - acc: 0.864 - 1s 142us/step - loss: 0.3623 - acc: 0.8644 - val_loss: 0.3999 - val_acc: 0.8462\n",
      "Epoch 20/50\n",
      "6400/6400 [==============================] - 1s 146us/step - loss: 0.3511 - acc: 0.8733 - val_loss: 0.4114 - val_acc: 0.8350\n",
      "Epoch 21/50\n",
      "6400/6400 [==============================] - 1s 151us/step - loss: 0.3501 - acc: 0.8677 - val_loss: 0.4101 - val_acc: 0.8381\n",
      "Epoch 22/50\n",
      "6400/6400 [==============================] - 1s 144us/step - loss: 0.3513 - acc: 0.8689 - val_loss: 0.3985 - val_acc: 0.8425\n",
      "Epoch 23/50\n",
      "6400/6400 [==============================] - 1s 158us/step - loss: 0.3424 - acc: 0.8691 - val_loss: 0.3885 - val_acc: 0.8519\n",
      "Epoch 24/50\n",
      "6400/6400 [==============================] - 1s 143us/step - loss: 0.3349 - acc: 0.8723 - val_loss: 0.3809 - val_acc: 0.8544\n",
      "Epoch 25/50\n",
      "6400/6400 [==============================] - 1s 143us/step - loss: 0.3287 - acc: 0.8764 - val_loss: 0.3793 - val_acc: 0.8525\n",
      "Epoch 26/50\n",
      "6400/6400 [==============================] - 1s 142us/step - loss: 0.3181 - acc: 0.8797 - val_loss: 0.3773 - val_acc: 0.8500\n",
      "Epoch 27/50\n",
      "6400/6400 [==============================] - 1s 139us/step - loss: 0.3188 - acc: 0.8816 - val_loss: 0.3770 - val_acc: 0.8494\n",
      "Epoch 28/50\n",
      "6400/6400 [==============================] - 1s 141us/step - loss: 0.3208 - acc: 0.8759 - val_loss: 0.3771 - val_acc: 0.8506\n",
      "Epoch 29/50\n",
      "6400/6400 [==============================] - 1s 139us/step - loss: 0.3161 - acc: 0.8834 - val_loss: 0.3848 - val_acc: 0.8462\n",
      "Epoch 30/50\n",
      "6400/6400 [==============================] - 1s 138us/step - loss: 0.3091 - acc: 0.8839 - val_loss: 0.3757 - val_acc: 0.8525\n",
      "Epoch 31/50\n",
      "6400/6400 [==============================] - 1s 144us/step - loss: 0.3026 - acc: 0.8852 - val_loss: 0.3891 - val_acc: 0.8438\n",
      "Epoch 32/50\n",
      "6400/6400 [==============================] - 1s 140us/step - loss: 0.3049 - acc: 0.8819 - val_loss: 0.3749 - val_acc: 0.8544\n",
      "Epoch 33/50\n",
      "6400/6400 [==============================] - 1s 139us/step - loss: 0.3059 - acc: 0.8864 - val_loss: 0.3772 - val_acc: 0.8538\n",
      "Epoch 34/50\n",
      "6400/6400 [==============================] - 1s 139us/step - loss: 0.3080 - acc: 0.8823 - val_loss: 0.3648 - val_acc: 0.8556\n",
      "Epoch 35/50\n",
      "6400/6400 [==============================] - 1s 146us/step - loss: 0.2971 - acc: 0.8864 - val_loss: 0.3702 - val_acc: 0.8581\n",
      "Epoch 36/50\n",
      "6400/6400 [==============================] - 1s 139us/step - loss: 0.2933 - acc: 0.8906 - val_loss: 0.3639 - val_acc: 0.8569\n",
      "Epoch 37/50\n",
      "6400/6400 [==============================] - 1s 139us/step - loss: 0.2971 - acc: 0.8881 - val_loss: 0.3709 - val_acc: 0.8569\n",
      "Epoch 38/50\n",
      "6400/6400 [==============================] - 1s 145us/step - loss: 0.2839 - acc: 0.8925 - val_loss: 0.3703 - val_acc: 0.8588\n",
      "Epoch 39/50\n",
      "6400/6400 [==============================] - 1s 152us/step - loss: 0.2807 - acc: 0.8939 - val_loss: 0.3669 - val_acc: 0.8569\n",
      "Epoch 40/50\n",
      "6400/6400 [==============================] - 1s 144us/step - loss: 0.2789 - acc: 0.8964 - val_loss: 0.3698 - val_acc: 0.8588\n",
      "Epoch 41/50\n",
      "6400/6400 [==============================] - 1s 144us/step - loss: 0.2739 - acc: 0.8998 - val_loss: 0.3643 - val_acc: 0.8588\n",
      "Epoch 42/50\n",
      "6400/6400 [==============================] - 1s 156us/step - loss: 0.2671 - acc: 0.9025 - val_loss: 0.3620 - val_acc: 0.8600\n",
      "Epoch 43/50\n",
      "6400/6400 [==============================] - 1s 149us/step - loss: 0.2654 - acc: 0.9028 - val_loss: 0.3619 - val_acc: 0.8556\n",
      "Epoch 44/50\n",
      "6400/6400 [==============================] - 1s 141us/step - loss: 0.2675 - acc: 0.8973 - val_loss: 0.3783 - val_acc: 0.8531\n",
      "Epoch 45/50\n",
      "6400/6400 [==============================] - 1s 143us/step - loss: 0.2757 - acc: 0.8964 - val_loss: 0.3669 - val_acc: 0.8569\n",
      "Epoch 46/50\n",
      "6400/6400 [==============================] - 1s 143us/step - loss: 0.2652 - acc: 0.8966 - val_loss: 0.3659 - val_acc: 0.8575\n",
      "Epoch 47/50\n",
      "6400/6400 [==============================] - 1s 142us/step - loss: 0.2593 - acc: 0.9048 - val_loss: 0.3538 - val_acc: 0.8625\n",
      "Epoch 48/50\n",
      "6400/6400 [==============================] - 1s 140us/step - loss: 0.2511 - acc: 0.9056 - val_loss: 0.3583 - val_acc: 0.8625\n",
      "Epoch 49/50\n",
      "6400/6400 [==============================] - 1s 144us/step - loss: 0.2507 - acc: 0.9052 - val_loss: 0.3901 - val_acc: 0.8500\n",
      "Epoch 50/50\n",
      "6400/6400 [==============================] - 1s 146us/step - loss: 0.2523 - acc: 0.9069 - val_loss: 0.3626 - val_acc: 0.8606\n",
      "Train on 6400 samples, validate on 1600 samples\n",
      "Epoch 1/50\n",
      "6400/6400 [==============================] - 4s 599us/step - loss: 0.9328 - acc: 0.6003 - val_loss: 0.7484 - val_acc: 0.6787\n",
      "Epoch 2/50\n",
      "6400/6400 [==============================] - 2s 244us/step - loss: 0.6674 - acc: 0.7137 - val_loss: 0.6087 - val_acc: 0.7350\n",
      "Epoch 3/50\n",
      "6400/6400 [==============================] - 2s 240us/step - loss: 0.5897 - acc: 0.7567 - val_loss: 0.5691 - val_acc: 0.7775\n",
      "Epoch 4/50\n",
      "6400/6400 [==============================] - 2s 237us/step - loss: 0.5399 - acc: 0.7894 - val_loss: 0.5289 - val_acc: 0.7944\n",
      "Epoch 5/50\n",
      "6400/6400 [==============================] - 2s 236us/step - loss: 0.4940 - acc: 0.8047 - val_loss: 0.4714 - val_acc: 0.8069\n",
      "Epoch 6/50\n",
      "6400/6400 [==============================] - 2s 242us/step - loss: 0.4652 - acc: 0.8214 - val_loss: 0.4531 - val_acc: 0.8200\n",
      "Epoch 7/50\n",
      "6400/6400 [==============================] - 2s 277us/step - loss: 0.4556 - acc: 0.8237 - val_loss: 0.4369 - val_acc: 0.8256\n",
      "Epoch 8/50\n",
      "6400/6400 [==============================] - 2s 264us/step - loss: 0.4404 - acc: 0.8272 - val_loss: 0.4351 - val_acc: 0.8287\n",
      "Epoch 9/50\n",
      "6400/6400 [==============================] - 2s 255us/step - loss: 0.4230 - acc: 0.8362 - val_loss: 0.4351 - val_acc: 0.8313\n"
     ]
    },
    {
     "name": "stdout",
     "output_type": "stream",
     "text": [
      "Epoch 10/50\n",
      "6400/6400 [==============================] - 2s 240us/step - loss: 0.4130 - acc: 0.8412 - val_loss: 0.4138 - val_acc: 0.8363\n",
      "Epoch 11/50\n",
      "6400/6400 [==============================] - 2s 239us/step - loss: 0.3980 - acc: 0.8467 - val_loss: 0.4015 - val_acc: 0.8387\n",
      "Epoch 12/50\n",
      "6400/6400 [==============================] - 2s 247us/step - loss: 0.3796 - acc: 0.8516 - val_loss: 0.3923 - val_acc: 0.8462\n",
      "Epoch 13/50\n",
      "6400/6400 [==============================] - 2s 249us/step - loss: 0.3702 - acc: 0.8552 - val_loss: 0.3881 - val_acc: 0.8500\n",
      "Epoch 14/50\n",
      "6400/6400 [==============================] - 2s 249us/step - loss: 0.3681 - acc: 0.8603 - val_loss: 0.3812 - val_acc: 0.8519\n",
      "Epoch 15/50\n",
      "6400/6400 [==============================] - 2s 238us/step - loss: 0.3619 - acc: 0.8614 - val_loss: 0.4122 - val_acc: 0.8350\n",
      "Epoch 16/50\n",
      "6400/6400 [==============================] - 2s 240us/step - loss: 0.3672 - acc: 0.8570 - val_loss: 0.3756 - val_acc: 0.8512\n",
      "Epoch 17/50\n",
      "6400/6400 [==============================] - 2s 237us/step - loss: 0.3524 - acc: 0.8630 - val_loss: 0.3665 - val_acc: 0.8550\n",
      "Epoch 18/50\n",
      "6400/6400 [==============================] - 2s 237us/step - loss: 0.3331 - acc: 0.8731 - val_loss: 0.3594 - val_acc: 0.8575\n",
      "Epoch 19/50\n",
      "6400/6400 [==============================] - 2s 236us/step - loss: 0.3335 - acc: 0.8716 - val_loss: 0.3961 - val_acc: 0.8350\n",
      "Epoch 20/50\n",
      "6400/6400 [==============================] - 2s 246us/step - loss: 0.3254 - acc: 0.8769 - val_loss: 0.3758 - val_acc: 0.8450\n",
      "Epoch 21/50\n",
      "6400/6400 [==============================] - 2s 246us/step - loss: 0.3156 - acc: 0.8788 - val_loss: 0.3732 - val_acc: 0.8462\n",
      "Epoch 22/50\n",
      "6400/6400 [==============================] - 2s 243us/step - loss: 0.3118 - acc: 0.8797 - val_loss: 0.3575 - val_acc: 0.8638\n",
      "Epoch 23/50\n",
      "6400/6400 [==============================] - 2s 257us/step - loss: 0.3009 - acc: 0.8864 - val_loss: 0.3557 - val_acc: 0.8588\n",
      "Epoch 24/50\n",
      "6400/6400 [==============================] - 2s 253us/step - loss: 0.2945 - acc: 0.8895 - val_loss: 0.3571 - val_acc: 0.8612\n",
      "Epoch 25/50\n",
      "6400/6400 [==============================] - 2s 278us/step - loss: 0.2915 - acc: 0.8864 - val_loss: 0.3589 - val_acc: 0.8581\n",
      "Epoch 26/50\n",
      "6400/6400 [==============================] - 2s 295us/step - loss: 0.2854 - acc: 0.8888 - val_loss: 0.3424 - val_acc: 0.8556\n",
      "Epoch 27/50\n",
      "6400/6400 [==============================] - 2s 246us/step - loss: 0.2746 - acc: 0.8972 - val_loss: 0.3586 - val_acc: 0.8588\n",
      "Epoch 28/50\n",
      "6400/6400 [==============================] - 2s 247us/step - loss: 0.2682 - acc: 0.8986 - val_loss: 0.3497 - val_acc: 0.8612\n",
      "Epoch 29/50\n",
      "6400/6400 [==============================] - 2s 238us/step - loss: 0.2680 - acc: 0.8970 - val_loss: 0.3352 - val_acc: 0.8631\n",
      "Epoch 30/50\n",
      "6400/6400 [==============================] - 2s 239us/step - loss: 0.2649 - acc: 0.9006 - val_loss: 0.3370 - val_acc: 0.8694\n",
      "Epoch 31/50\n",
      "6400/6400 [==============================] - 2s 238us/step - loss: 0.2618 - acc: 0.9002 - val_loss: 0.3507 - val_acc: 0.8650\n",
      "Epoch 32/50\n",
      "6400/6400 [==============================] - 2s 243us/step - loss: 0.2539 - acc: 0.9037 - val_loss: 0.3400 - val_acc: 0.8650\n",
      "Epoch 33/50\n",
      "6400/6400 [==============================] - 2s 266us/step - loss: 0.2569 - acc: 0.8997 - val_loss: 0.3464 - val_acc: 0.8644\n",
      "Epoch 34/50\n",
      "6400/6400 [==============================] - 2s 244us/step - loss: 0.2473 - acc: 0.9091 - val_loss: 0.3371 - val_acc: 0.8719\n",
      "Epoch 35/50\n",
      "6400/6400 [==============================] - 2s 265us/step - loss: 0.2334 - acc: 0.9106 - val_loss: 0.3340 - val_acc: 0.8694\n",
      "Epoch 36/50\n",
      "6400/6400 [==============================] - 2s 283us/step - loss: 0.2355 - acc: 0.9098 - val_loss: 0.3492 - val_acc: 0.8662\n",
      "Epoch 37/50\n",
      "6400/6400 [==============================] - 2s 239us/step - loss: 0.2329 - acc: 0.9111 - val_loss: 0.3393 - val_acc: 0.8738\n",
      "Epoch 38/50\n",
      "6400/6400 [==============================] - 2s 279us/step - loss: 0.2217 - acc: 0.9128 - val_loss: 0.3410 - val_acc: 0.8706\n",
      "Epoch 39/50\n",
      "6400/6400 [==============================] - 2s 242us/step - loss: 0.2190 - acc: 0.9194 - val_loss: 0.3383 - val_acc: 0.8650\n",
      "Epoch 40/50\n",
      "6400/6400 [==============================] - 2s 314us/step - loss: 0.2195 - acc: 0.9156 - val_loss: 0.3469 - val_acc: 0.8706\n",
      "Epoch 41/50\n",
      "6400/6400 [==============================] - 2s 264us/step - loss: 0.2192 - acc: 0.9147 - val_loss: 0.3577 - val_acc: 0.8669\n",
      "Epoch 42/50\n",
      "6400/6400 [==============================] - 2s 251us/step - loss: 0.2202 - acc: 0.9141 - val_loss: 0.3421 - val_acc: 0.8644\n",
      "Epoch 43/50\n",
      "6400/6400 [==============================] - 2s 249us/step - loss: 0.2091 - acc: 0.9230 - val_loss: 0.3310 - val_acc: 0.8731\n",
      "Epoch 44/50\n",
      "6400/6400 [==============================] - 2s 242us/step - loss: 0.2023 - acc: 0.9255 - val_loss: 0.3385 - val_acc: 0.8706\n",
      "Epoch 45/50\n",
      "6400/6400 [==============================] - 2s 250us/step - loss: 0.1868 - acc: 0.9303 - val_loss: 0.3325 - val_acc: 0.8750\n",
      "Epoch 46/50\n",
      "6400/6400 [==============================] - 2s 248us/step - loss: 0.1809 - acc: 0.9337 - val_loss: 0.3381 - val_acc: 0.8819\n",
      "Epoch 47/50\n",
      "6400/6400 [==============================] - 2s 258us/step - loss: 0.1883 - acc: 0.9288 - val_loss: 0.3320 - val_acc: 0.8762\n",
      "Epoch 48/50\n",
      "6400/6400 [==============================] - 2s 243us/step - loss: 0.1884 - acc: 0.9312 - val_loss: 0.3283 - val_acc: 0.8800\n",
      "Epoch 49/50\n",
      "6400/6400 [==============================] - 2s 260us/step - loss: 0.1807 - acc: 0.9319 - val_loss: 0.3297 - val_acc: 0.8788\n",
      "Epoch 50/50\n",
      "6400/6400 [==============================] - 2s 293us/step - loss: 0.1714 - acc: 0.9352 - val_loss: 0.3343 - val_acc: 0.8800\n",
      "Train on 6400 samples, validate on 1600 samples\n",
      "Epoch 1/50\n",
      "6400/6400 [==============================] - 7s 1ms/step - loss: 1.3695 - acc: 0.4466 - val_loss: 0.9474 - val_acc: 0.6044\n",
      "Epoch 2/50\n",
      "6400/6400 [==============================] - 3s 454us/step - loss: 0.9098 - acc: 0.6067 - val_loss: 0.8032 - val_acc: 0.6525\n",
      "Epoch 3/50\n",
      "6400/6400 [==============================] - 3s 430us/step - loss: 0.7807 - acc: 0.6567 - val_loss: 0.6901 - val_acc: 0.6813\n",
      "Epoch 4/50\n",
      "6400/6400 [==============================] - 3s 435us/step - loss: 0.7152 - acc: 0.6809 - val_loss: 0.6639 - val_acc: 0.6969\n",
      "Epoch 5/50\n",
      "6400/6400 [==============================] - 3s 434us/step - loss: 0.6677 - acc: 0.7041 - val_loss: 0.6236 - val_acc: 0.7250\n",
      "Epoch 6/50\n",
      "6400/6400 [==============================] - 3s 428us/step - loss: 0.6302 - acc: 0.7252 - val_loss: 0.5956 - val_acc: 0.7500\n",
      "Epoch 7/50\n",
      "6400/6400 [==============================] - 3s 435us/step - loss: 0.6091 - acc: 0.7383 - val_loss: 0.5639 - val_acc: 0.7438\n",
      "Epoch 8/50\n",
      "6400/6400 [==============================] - 3s 425us/step - loss: 0.5714 - acc: 0.7606 - val_loss: 0.5225 - val_acc: 0.7894\n",
      "Epoch 9/50\n",
      "6400/6400 [==============================] - 3s 429us/step - loss: 0.5506 - acc: 0.7714 - val_loss: 0.4967 - val_acc: 0.7963\n",
      "Epoch 10/50\n",
      "6400/6400 [==============================] - 3s 435us/step - loss: 0.5193 - acc: 0.7842 - val_loss: 0.4948 - val_acc: 0.8013\n",
      "Epoch 11/50\n",
      "6400/6400 [==============================] - 3s 427us/step - loss: 0.5128 - acc: 0.7911 - val_loss: 0.4706 - val_acc: 0.8100\n",
      "Epoch 12/50\n",
      "6400/6400 [==============================] - 3s 433us/step - loss: 0.4953 - acc: 0.8008 - val_loss: 0.4469 - val_acc: 0.8119\n",
      "Epoch 13/50\n",
      "6400/6400 [==============================] - 3s 429us/step - loss: 0.4737 - acc: 0.8069 - val_loss: 0.4522 - val_acc: 0.8119\n",
      "Epoch 14/50\n",
      "6400/6400 [==============================] - 3s 430us/step - loss: 0.4590 - acc: 0.8137 - val_loss: 0.4257 - val_acc: 0.8319\n",
      "Epoch 15/50\n",
      "6400/6400 [==============================] - 3s 427us/step - loss: 0.4368 - acc: 0.8217 - val_loss: 0.4084 - val_acc: 0.8350\n",
      "Epoch 16/50\n",
      "6400/6400 [==============================] - 3s 434us/step - loss: 0.4360 - acc: 0.8280 - val_loss: 0.4001 - val_acc: 0.8294\n",
      "Epoch 17/50\n",
      "6400/6400 [==============================] - 3s 429us/step - loss: 0.4270 - acc: 0.8278 - val_loss: 0.3953 - val_acc: 0.8369\n",
      "Epoch 18/50\n",
      "6400/6400 [==============================] - 3s 435us/step - loss: 0.4203 - acc: 0.8255 - val_loss: 0.4017 - val_acc: 0.8356\n",
      "Epoch 19/50\n"
     ]
    },
    {
     "name": "stdout",
     "output_type": "stream",
     "text": [
      "6400/6400 [==============================] - 3s 426us/step - loss: 0.4080 - acc: 0.8359 - val_loss: 0.3842 - val_acc: 0.8431\n",
      "Epoch 20/50\n",
      "6400/6400 [==============================] - 3s 425us/step - loss: 0.3971 - acc: 0.8362 - val_loss: 0.3893 - val_acc: 0.8481\n",
      "Epoch 21/50\n",
      "6400/6400 [==============================] - 3s 426us/step - loss: 0.3916 - acc: 0.8400 - val_loss: 0.3760 - val_acc: 0.8406\n",
      "Epoch 22/50\n",
      "6400/6400 [==============================] - 3s 426us/step - loss: 0.3727 - acc: 0.8456 - val_loss: 0.3781 - val_acc: 0.8494\n",
      "Epoch 23/50\n",
      "6400/6400 [==============================] - 3s 438us/step - loss: 0.3690 - acc: 0.8544 - val_loss: 0.3834 - val_acc: 0.8425\n",
      "Epoch 24/50\n",
      "6400/6400 [==============================] - 3s 445us/step - loss: 0.3750 - acc: 0.8544 - val_loss: 0.3723 - val_acc: 0.8481\n",
      "Epoch 25/50\n",
      "6400/6400 [==============================] - 3s 451us/step - loss: 0.3678 - acc: 0.8525 - val_loss: 0.3823 - val_acc: 0.8450\n",
      "Epoch 26/50\n",
      "6400/6400 [==============================] - 3s 430us/step - loss: 0.3463 - acc: 0.8580 - val_loss: 0.3776 - val_acc: 0.8494\n",
      "Epoch 27/50\n",
      "6400/6400 [==============================] - 3s 441us/step - loss: 0.3456 - acc: 0.8620 - val_loss: 0.3720 - val_acc: 0.8500\n",
      "Epoch 28/50\n",
      "6400/6400 [==============================] - 3s 454us/step - loss: 0.3490 - acc: 0.8577 - val_loss: 0.3759 - val_acc: 0.8538\n",
      "Epoch 29/50\n",
      "6400/6400 [==============================] - 3s 471us/step - loss: 0.3389 - acc: 0.8634 - val_loss: 0.3766 - val_acc: 0.8588\n",
      "Epoch 30/50\n",
      "6400/6400 [==============================] - 3s 449us/step - loss: 0.3255 - acc: 0.8687 - val_loss: 0.3589 - val_acc: 0.8562\n",
      "Epoch 31/50\n",
      "6400/6400 [==============================] - 3s 442us/step - loss: 0.3228 - acc: 0.8709 - val_loss: 0.3577 - val_acc: 0.8575\n",
      "Epoch 32/50\n",
      "6400/6400 [==============================] - 3s 442us/step - loss: 0.3192 - acc: 0.8700 - val_loss: 0.3567 - val_acc: 0.8600\n",
      "Epoch 33/50\n",
      "6400/6400 [==============================] - 3s 456us/step - loss: 0.3114 - acc: 0.8714 - val_loss: 0.3629 - val_acc: 0.8581\n",
      "Epoch 34/50\n",
      "6400/6400 [==============================] - 3s 448us/step - loss: 0.2998 - acc: 0.8767 - val_loss: 0.3521 - val_acc: 0.8612\n",
      "Epoch 35/50\n",
      "6400/6400 [==============================] - 3s 439us/step - loss: 0.2993 - acc: 0.8775 - val_loss: 0.3593 - val_acc: 0.8594\n",
      "Epoch 36/50\n",
      "6400/6400 [==============================] - 3s 436us/step - loss: 0.2974 - acc: 0.8825 - val_loss: 0.3547 - val_acc: 0.8594\n",
      "Epoch 37/50\n",
      "6400/6400 [==============================] - 3s 437us/step - loss: 0.2874 - acc: 0.8806 - val_loss: 0.3585 - val_acc: 0.8644\n",
      "Epoch 38/50\n",
      "6400/6400 [==============================] - 3s 436us/step - loss: 0.2932 - acc: 0.8811 - val_loss: 0.3644 - val_acc: 0.8638\n",
      "Epoch 39/50\n",
      "6400/6400 [==============================] - 3s 439us/step - loss: 0.2760 - acc: 0.8905 - val_loss: 0.3583 - val_acc: 0.8694\n",
      "Epoch 40/50\n",
      "6400/6400 [==============================] - 3s 434us/step - loss: 0.2671 - acc: 0.8908 - val_loss: 0.3532 - val_acc: 0.8675\n",
      "Epoch 41/50\n",
      "6400/6400 [==============================] - 3s 433us/step - loss: 0.2634 - acc: 0.8952 - val_loss: 0.3505 - val_acc: 0.8712\n",
      "Epoch 42/50\n",
      "6400/6400 [==============================] - 3s 428us/step - loss: 0.2600 - acc: 0.8909 - val_loss: 0.3566 - val_acc: 0.8744\n",
      "Epoch 43/50\n",
      "6400/6400 [==============================] - 3s 481us/step - loss: 0.2460 - acc: 0.8966 - val_loss: 0.3642 - val_acc: 0.8688\n",
      "Epoch 44/50\n",
      "6400/6400 [==============================] - 4s 561us/step - loss: 0.2541 - acc: 0.8928 - val_loss: 0.3564 - val_acc: 0.8688\n",
      "Epoch 45/50\n",
      "6400/6400 [==============================] - 3s 490us/step - loss: 0.2474 - acc: 0.9005 - val_loss: 0.3680 - val_acc: 0.8656\n",
      "Epoch 46/50\n",
      "6400/6400 [==============================] - 3s 465us/step - loss: 0.2514 - acc: 0.9006 - val_loss: 0.3628 - val_acc: 0.8731\n",
      "Epoch 47/50\n",
      "6400/6400 [==============================] - 3s 458us/step - loss: 0.2383 - acc: 0.9017 - val_loss: 0.3759 - val_acc: 0.8681\n",
      "Epoch 48/50\n",
      "6400/6400 [==============================] - 3s 451us/step - loss: 0.2391 - acc: 0.9005 - val_loss: 0.3645 - val_acc: 0.8662\n",
      "Epoch 49/50\n",
      "6400/6400 [==============================] - 3s 477us/step - loss: 0.2395 - acc: 0.9044 - val_loss: 0.3559 - val_acc: 0.8725\n",
      "Epoch 50/50\n",
      "6400/6400 [==============================] - 3s 490us/step - loss: 0.2333 - acc: 0.9080 - val_loss: 0.3854 - val_acc: 0.8700\n"
     ]
    }
   ],
   "source": [
    "# train the models and save results to a dict\n",
    "\n",
    "history_dict = {}\n",
    "\n",
    "for model in cnn_models:\n",
    "    model.compile(\n",
    "        loss='categorical_crossentropy',\n",
    "        optimizer=Adam(),\n",
    "        metrics=['accuracy']\n",
    "    )\n",
    "    \n",
    "    history = model.fit(\n",
    "        x_train, y_train,\n",
    "        batch_size=batch_size,\n",
    "        epochs=50, verbose=1,\n",
    "        validation_data=(x_validate, y_validate)\n",
    "    )\n",
    "    \n",
    "    history_dict[model.name] = history"
   ]
  },
  {
   "cell_type": "code",
   "execution_count": 36,
   "metadata": {},
   "outputs": [
    {
     "data": {
      "image/png": "[encoded data removed]",
      "text/plain": [
       "<Figure size 576x432 with 2 Axes>"
      ]
     },
     "metadata": {
      "needs_background": "light"
     },
     "output_type": "display_data"
    }
   ],
   "source": [
    "# plot the accuracy and loss\n",
    "\n",
    "fig, (ax1, ax2) = plt.subplots(2, figsize=(8, 6))\n",
    "\n",
    "for history in history_dict:\n",
    "    val_acc = history_dict[history].history['val_acc']\n",
    "    val_loss = history_dict[history].history['val_loss']\n",
    "    ax1.plot(val_acc, label=history)\n",
    "    ax2.plot(val_loss, label=history)\n",
    "    \n",
    "ax1.set_ylabel('validation accuracy')\n",
    "ax2.set_ylabel('validation loss')\n",
    "ax2.set_xlabel('epochs')\n",
    "ax1.legend()\n",
    "ax2.legend()\n",
    "plt.show()"
   ]
  },
  {
   "cell_type": "markdown",
   "metadata": {},
   "source": [
    "#########################"
   ]
  },
  {
   "cell_type": "code",
   "execution_count": null,
   "metadata": {},
   "outputs": [],
   "source": []
  }
 ],
 "metadata": {
  "kernelspec": {
   "display_name": "Python 3",
   "language": "python",
   "name": "python3"
  },
  "language_info": {
   "codemirror_mode": {
    "name": "ipython",
    "version": 3
   },
   "file_extension": ".py",
   "mimetype": "text/x-python",
   "name": "python",
   "nbconvert_exporter": "python",
   "pygments_lexer": "ipython3",
   "version": "3.6.8"
  }
 },
 "nbformat": 4,
 "nbformat_minor": 2
}
